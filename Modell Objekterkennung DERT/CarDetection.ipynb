{
 "cells": [
  {
   "attachments": {},
   "cell_type": "markdown",
   "id": "1ba0b2c8",
   "metadata": {},
   "source": [
    "## Fahrzeug-Objekterkennungsmodell mit Detektionstransformator (DETR) "
   ]
  },
  {
   "attachments": {},
   "cell_type": "markdown",
   "id": "21d3e835",
   "metadata": {},
   "source": [
    "### Imports"
   ]
  },
  {
   "cell_type": "code",
   "execution_count": 1,
   "id": "523d6f06",
   "metadata": {},
   "outputs": [
    {
     "name": "stdout",
     "output_type": "stream",
     "text": [
      "Looking in links: https://download.pytorch.org/whl/cu111/torch_stable.html\n",
      "Requirement already satisfied: IProgress in c:\\users\\schy\\vehicle-detection-one-way\\.venv\\lib\\site-packages (0.4)\n",
      "Requirement already satisfied: opencv-python in c:\\users\\schy\\vehicle-detection-one-way\\.venv\\lib\\site-packages (4.7.0.72)\n",
      "Requirement already satisfied: ipywidgets in c:\\users\\schy\\vehicle-detection-one-way\\.venv\\lib\\site-packages (8.0.6)\n",
      "Requirement already satisfied: transformers in c:\\users\\schy\\vehicle-detection-one-way\\.venv\\lib\\site-packages (4.28.1)\n",
      "Requirement already satisfied: timm in c:\\users\\schy\\vehicle-detection-one-way\\.venv\\lib\\site-packages (0.6.13)\n",
      "Collecting torch==1.10.1+cu111\n",
      "  Using cached https://download.pytorch.org/whl/cu111/torch-1.10.1%2Bcu111-cp39-cp39-win_amd64.whl (3198.2 MB)\n"
     ]
    },
    {
     "name": "stderr",
     "output_type": "stream",
     "text": [
      "ERROR: Could not find a version that satisfies the requirement torchvision==0.11.2+cu111 (from versions: 0.1.6, 0.1.7, 0.1.8, 0.1.9, 0.2.0, 0.2.1, 0.2.2, 0.2.2.post2, 0.2.2.post3, 0.9.0, 0.9.0+cu111, 0.9.1, 0.9.1+cu111, 0.10.0, 0.10.0+cu111, 0.10.1, 0.10.1+cu111, 0.11.0, 0.11.1, 0.11.2, 0.11.3, 0.12.0, 0.13.0, 0.13.1, 0.14.0, 0.14.1, 0.15.0, 0.15.1)\n",
      "ERROR: No matching distribution found for torchvision==0.11.2+cu111\n",
      "usage: jupyter [-h] [--version] [--config-dir] [--data-dir] [--runtime-dir]\n",
      "               [--paths] [--json] [--debug]\n",
      "               [subcommand]\n",
      "\n",
      "Jupyter: Interactive Computing\n",
      "\n",
      "positional arguments:\n",
      "  subcommand     the subcommand to launch\n",
      "\n",
      "optional arguments:\n",
      "  -h, --help     show this help message and exit\n",
      "  --version      show the versions of core jupyter packages and exit\n",
      "  --config-dir   show Jupyter config dir\n",
      "  --data-dir     show Jupyter data dir\n",
      "  --runtime-dir  show Jupyter runtime dir\n",
      "  --paths        show all Jupyter paths. Add --json for machine-readable\n",
      "                 format.\n",
      "  --json         output paths as machine-readable json\n",
      "  --debug        output debug information about paths\n",
      "\n",
      "Available subcommands: kernel kernelspec migrate run troubleshoot\n",
      "\n",
      "Jupyter command `jupyter-nbextension` not found.\n"
     ]
    }
   ],
   "source": [
    "import sys\n",
    "\n",
    "!{sys.executable} -m pip install IProgress opencv-python ipywidgets transformers timm torch==1.10.1+cu111 torchvision==0.11.2+cu111 torchaudio==0.10.1 -f https://download.pytorch.org/whl/cu111/torch_stable.html\n",
    "\n",
    "!jupyter nbextension enable --py widgetsnbextension"
   ]
  },
  {
   "cell_type": "code",
   "execution_count": 2,
   "id": "a4981105",
   "metadata": {},
   "outputs": [],
   "source": [
    "import os\n",
    "import json\n",
    "import cv2\n",
    "import torch\n",
    "from tqdm.auto import tqdm\n",
    "import IProgress\n",
    "import requests\n",
    "from collections import defaultdict\n",
    "from PIL import Image, ImageDraw\n",
    "from transformers import pipeline, DetrImageProcessor, DetrForObjectDetection"
   ]
  },
  {
   "attachments": {},
   "cell_type": "markdown",
   "id": "781258c9",
   "metadata": {},
   "source": [
    "### CUDA-fähige CPU "
   ]
  },
  {
   "cell_type": "code",
   "execution_count": 3,
   "id": "bd50c3e6",
   "metadata": {},
   "outputs": [
    {
     "name": "stdout",
     "output_type": "stream",
     "text": [
      "WARNING: Running on CPU\n"
     ]
    }
   ],
   "source": [
    "# Prüfen einer CUDA-fähigen CPU - Festlegung Ausführungsort des Scriptes\n",
    "if torch.cuda.is_available():\n",
    "    print(\"Running on CUDA device\")\n",
    "    device = torch.device(\"cuda\")\n",
    "else:\n",
    "    print(\"WARNING: Running on CPU\")\n",
    "    device = torch.device(\"cpu\")"
   ]
  },
  {
   "attachments": {},
   "cell_type": "markdown",
   "id": "5eeb5ded",
   "metadata": {},
   "source": [
    "### Funktion, die Frames aus einem Video extrahiert"
   ]
  },
  {
   "cell_type": "code",
   "execution_count": 4,
   "id": "bd48f40c",
   "metadata": {},
   "outputs": [],
   "source": [
    "def video_to_frames(\n",
    "        in_file: str,\n",
    "        out_dir: str,\n",
    "        fps: int = 30\n",
    "):\n",
    "    # Überprüfen, ob das Ausgabe-Verzeichnis 'out_dir' bereits existiert und nicht leer ist.\n",
    "    if os.path.exists(out_dir) and len(os.listdir(out_dir)) != 0:\n",
    "        # Überspringe Extraktion der Frames, da sie bereits existieren\n",
    "        print(\"Skipping frame extraction since they already exist\")\n",
    "        return\n",
    "    \n",
    "    # Wenn das Ausgabe-Verzeichnis 'out_dir' nicht existiert, eines erstellen.\n",
    "    if not os.path.exists(out_dir):\n",
    "        os.makedirs(out_dir)\n",
    "\n",
    "    # Standard-Opencv-Videoerfassung 'VideoCapture' Objekt aus der OpenCV Bibliothek erzeugen.\n",
    "    vid = cv2.VideoCapture(in_file)\n",
    "\n",
    "    count = 0\n",
    "    while True:\n",
    "        ret, frame = vid.read()\n",
    "\n",
    "        if count % fps == 0:\n",
    "            cv2.imwrite(os.path.join(out_dir, f\"frames_{count}.png\"), frame)\n",
    "\n",
    "        if not ret:\n",
    "            break\n",
    "        count += 1\n",
    "\n",
    "    vid.release()"
   ]
  },
  {
   "attachments": {},
   "cell_type": "markdown",
   "id": "b4bae292",
   "metadata": {},
   "source": [
    "### Extrahieren der Bilder aus dem Video-Stream"
   ]
  },
  {
   "cell_type": "code",
   "execution_count": 5,
   "id": "d50a7b02",
   "metadata": {},
   "outputs": [],
   "source": [
    "# Extrahieren der Bilder 'extract frames'\n",
    "# 'fps'=30 bedeutet, dass jeder 30. Frame extrahiert wird\n",
    "video_to_frames(\n",
    "    \"Vehicle Detection Junktion 1.mp4\",\n",
    "    out_dir = \"extracted_frames\",\n",
    "    fps =30\n",
    ")"
   ]
  },
  {
   "attachments": {},
   "cell_type": "markdown",
   "id": "cd3492c1",
   "metadata": {},
   "source": [
    "### Objeterkennung in den extrahierten Bildern"
   ]
  },
  {
   "cell_type": "code",
   "execution_count": 6,
   "id": "e3cbe02d",
   "metadata": {},
   "outputs": [],
   "source": [
    "\n",
    "# Festlegung Speicherpfad Analysebilder, Ergebnisbilder und Nutzung des Modells \"facebook/detr-resnet-101\"\n",
    "def detect_objects_in_frames(\n",
    "    in_dir: str,\n",
    "    out_dir: str = \"detected_frames\",\n",
    "    model_name: str = \"facebook/detr-resnet-101\",\n",
    "    confidence=0.9  # Wahrscheinlichkeitsschwelle 90%\n",
    "):\n",
    "\n",
    "    # Laden aller Bilder in den Arbeitsspeicher\n",
    "    frames = {}\n",
    "    \n",
    "    # Jedes Bild wird geladen und dessen Dimensionen (Breite, Höhe) gespeichert\n",
    "    for image_name in os.listdir(in_dir):\n",
    "        image = Image.open(os.path.join(in_dir, image_name))\n",
    "        frames[image_name] = image\n",
    "    \n",
    "    # Laden ImageProcessor-Objekt, das für das Modell benötigt wird\n",
    "    processor = DetrImageProcessor.from_pretrained(model_name)\n",
    "    # Laden des Modells\n",
    "    # .to('cuda') platziert das Modell auf der GPU (schlägt fehl, wenn die GPU nicht erkannt wird)\n",
    "    model = DetrForObjectDetection.from_pretrained(model_name).to(device)\n",
    "    \n",
    "    # Initialisierung eines defaultdict-Objekts zum Zählen der erkannten Objekte\n",
    "    label_count = defaultdict(int)\n",
    "\n",
    "    # Iterations-Schleife über alle Frames\n",
    "    for frame_name in tqdm(frames.keys()):\n",
    "        frame = frames[frame_name]\n",
    "        # Vorverarbeitung des Frames entsprechend den Anforderungen des Modells\n",
    "        # z.B. Skalierung der Pixelwerte auf einen bestimmten Bereich\n",
    "        # .to(device) verschiebt das verarbeitete Frame auf die GPU, falls vorhanden\n",
    "        frame_processed = processor(images=frame, return_tensors=\"pt\").to(device)\n",
    "        \n",
    "        # Modellvorhersage auf dem Frame ausführen\n",
    "        detections = model(**frame_processed)\n",
    "    \n",
    "        # Ergebnisse aufbereiten und Bounding Boxes zeichnen\n",
    "        # invertiert die Bildabmessungen, z.B. (Breite, Höhe) -> (Höhe, Breite)\n",
    "        target_sizes = torch.tensor([frame.size[::-1]])\n",
    "        \n",
    "        # post-processing für das Modell\n",
    "        # Schwelle bedeutet Modellvertrauen -> ggf. anpassen\n",
    "        results = processor.post_process_object_detection(detections, target_sizes=target_sizes, threshold=confidence)[0]\n",
    "        \n",
    "        # PIL ImageDraw zum Zeichnen von Bounding Boxes / Text in das Bild\n",
    "        draw = ImageDraw.Draw(frame)\n",
    "        # für jede Erkennung (bestehend aus Score, Label und Bounding Box)\n",
    "        for score, label, box in zip(results[\"scores\"], results[\"labels\"], results[\"boxes\"]):\n",
    "            box = [round(i, 2) for i in box.tolist()]\n",
    "            # das Modell arbeitet mit numerischen Labels\n",
    "            # model.config.id2label enthält ein Dictionary, das beispielsweise 0 -> Bus, 1 -> Auto usw. zuordnet\n",
    "            print(\n",
    "                f\"Detected {model.config.id2label[label.item()]} with confidence \"\n",
    "                f\"{round(score.item(), 3)} at location {box}\"\n",
    "            )\n",
    "            x, y, x2, y2 = tuple(box)\n",
    "            # Zeichne ein Rechteck um die Erkennung mit einer roten Umrandung und einer Breite von 1px\n",
    "            draw.rectangle((x, y, x2, y2), outline='red', width=1)\n",
    "            # Text in Schwarz zeichnen\n",
    "            draw.text((x, y), model.config.id2label[label.item()], fill='black')\n",
    "            \n",
    "            # den Zähler um 1 erhöhen\n",
    "            label_count[model.config.id2label[label.item()]] += 1\n",
    "\n",
    "        # Frame-Out-Verzeichnis erstellen, wenn es nicht vorhanden ist\n",
    "        if not os.path.exists(out_dir):\n",
    "            os.makedirs(out_dir)\n",
    "        # Bild speichern (enthält jetzt die Begrenzungsrahmen - bounding boxes)\n",
    "        frame.save(os.path.join(out_dir, f\"{frame_name}.png\"))\n",
    "    \n",
    "    # Enthält alle erkannten Objekte und deren Häufigkeit - zurück, um anzuzeigen.\n",
    "    return label_count\n"
   ]
  },
  {
   "attachments": {},
   "cell_type": "markdown",
   "id": "08ad5093",
   "metadata": {},
   "source": [
    "### Ausgabe der Objekterkennung über den Wahrscheinlichkeitsschellenwert 0,9"
   ]
  },
  {
   "cell_type": "code",
   "execution_count": 7,
   "id": "1d1fc93a",
   "metadata": {},
   "outputs": [
    {
     "name": "stderr",
     "output_type": "stream",
     "text": [
      "The `max_size` parameter is deprecated and will be removed in v4.26. Please specify in `size['longest_edge'] instead`.\n"
     ]
    },
    {
     "data": {
      "application/vnd.jupyter.widget-view+json": {
       "model_id": "9d60bcb76f344f9389c5a3c6013c8f7e",
       "version_major": 2,
       "version_minor": 0
      },
      "text/plain": [
       "  0%|          | 0/183 [00:00<?, ?it/s]"
      ]
     },
     "metadata": {},
     "output_type": "display_data"
    },
    {
     "name": "stdout",
     "output_type": "stream",
     "text": [
      "Detected truck with confidence 0.926 at location [510.83, 0.19, 669.02, 20.37]\n",
      "Detected truck with confidence 0.994 at location [219.64, 1.92, 677.26, 366.94]\n",
      "Detected car with confidence 0.989 at location [153.7, 198.86, 447.6, 474.24]\n",
      "Detected car with confidence 0.908 at location [182.61, 0.09, 261.05, 39.5]\n",
      "Detected car with confidence 0.995 at location [416.22, 1.07, 655.02, 189.41]\n",
      "Detected car with confidence 0.964 at location [302.81, 57.14, 560.1, 288.49]\n",
      "Detected truck with confidence 0.918 at location [301.01, 54.0, 561.64, 290.14]\n",
      "Detected car with confidence 0.935 at location [172.77, 0.27, 336.28, 80.67]\n",
      "Detected car with confidence 0.994 at location [155.84, 220.86, 446.16, 474.35]\n",
      "Detected car with confidence 0.996 at location [315.42, 11.97, 507.22, 168.46]\n",
      "Detected car with confidence 0.963 at location [239.84, 0.44, 398.54, 107.38]\n",
      "Detected car with confidence 0.949 at location [164.99, 0.3, 286.12, 64.51]\n",
      "Detected car with confidence 0.977 at location [406.24, 12.06, 627.68, 194.67]\n",
      "Detected car with confidence 0.981 at location [176.48, 0.53, 336.87, 67.61]\n",
      "Detected car with confidence 0.99 at location [318.09, 0.33, 514.0, 121.15]\n",
      "Detected airplane with confidence 0.934 at location [182.2, 9.21, 588.18, 433.63]\n",
      "Detected car with confidence 0.958 at location [175.72, 0.1, 248.77, 38.43]\n",
      "Detected truck with confidence 0.951 at location [374.96, 0.5, 616.55, 210.15]\n",
      "Detected car with confidence 0.974 at location [157.65, 199.69, 446.33, 474.33]\n",
      "Detected car with confidence 0.983 at location [347.12, 0.39, 525.62, 109.67]\n",
      "Detected car with confidence 0.939 at location [174.73, 0.29, 364.24, 66.49]\n",
      "Detected car with confidence 0.987 at location [356.75, 75.93, 604.44, 268.14]\n",
      "Detected car with confidence 0.992 at location [172.62, 0.19, 244.75, 40.34]\n",
      "Detected car with confidence 0.994 at location [369.91, 14.65, 560.19, 162.14]\n",
      "Detected car with confidence 0.995 at location [269.15, 0.33, 442.75, 102.57]\n",
      "Detected car with confidence 0.962 at location [170.4, 0.43, 319.48, 69.55]\n",
      "Detected car with confidence 0.924 at location [168.21, 0.03, 218.62, 37.04]\n",
      "Detected truck with confidence 0.902 at location [316.25, -0.08, 644.41, 253.5]\n",
      "Detected car with confidence 0.986 at location [389.71, 1.15, 611.61, 161.71]\n",
      "Detected truck with confidence 0.981 at location [215.04, 0.35, 387.89, 65.64]\n",
      "Detected truck with confidence 0.945 at location [388.03, 14.01, 563.39, 151.7]\n",
      "Detected truck with confidence 0.944 at location [230.6, 80.66, 589.21, 370.94]\n",
      "Detected car with confidence 0.953 at location [171.55, 0.2, 259.22, 39.65]\n",
      "Detected truck with confidence 0.963 at location [283.98, -1.07, 601.15, 343.64]\n",
      "Detected car with confidence 0.969 at location [201.28, 0.33, 355.75, 75.39]\n",
      "Detected car with confidence 0.977 at location [173.86, 0.1, 234.2, 45.1]\n",
      "Detected car with confidence 0.999 at location [252.8, 0.24, 415.07, 79.78]\n",
      "Detected car with confidence 0.997 at location [394.46, 28.4, 589.05, 190.24]\n",
      "Detected car with confidence 0.995 at location [170.04, 0.19, 300.01, 52.34]\n",
      "Detected car with confidence 0.974 at location [290.57, 0.66, 473.5, 114.44]\n",
      "Detected truck with confidence 0.935 at location [190.26, 0.32, 353.38, 77.78]\n",
      "Detected car with confidence 0.925 at location [189.3, 0.32, 353.89, 77.62]\n",
      "Detected car with confidence 0.908 at location [155.91, 128.76, 609.36, 438.99]\n",
      "Detected car with confidence 0.994 at location [174.26, 0.18, 249.96, 49.42]\n",
      "Detected truck with confidence 0.917 at location [447.6, 8.18, 664.1, 210.79]\n",
      "Detected car with confidence 0.984 at location [447.02, 7.22, 662.63, 210.53]\n",
      "Detected car with confidence 0.989 at location [376.16, 0.81, 565.15, 115.4]\n",
      "Detected truck with confidence 0.95 at location [284.86, 15.83, 549.52, 254.26]\n",
      "Detected truck with confidence 0.906 at location [262.09, 0.41, 423.26, 59.67]\n",
      "Detected car with confidence 0.917 at location [284.54, 15.11, 551.15, 251.94]\n",
      "Detected car with confidence 0.911 at location [182.16, 0.17, 304.04, 29.41]\n",
      "Detected car with confidence 0.975 at location [312.89, 0.56, 510.45, 139.46]\n",
      "Detected car with confidence 0.984 at location [255.27, 0.36, 429.65, 90.09]\n",
      "Detected car with confidence 0.985 at location [205.96, 0.32, 346.92, 56.32]\n",
      "Detected bus with confidence 0.903 at location [157.94, 374.35, 259.46, 467.32]\n",
      "Detected car with confidence 0.997 at location [449.28, 4.71, 653.24, 159.92]\n",
      "Detected truck with confidence 0.975 at location [303.88, 0.65, 493.5, 87.24]\n",
      "Detected backpack with confidence 0.917 at location [310.99, 0.25, 482.03, 112.0]\n",
      "Detected truck with confidence 0.986 at location [247.9, 57.21, 571.0, 347.22]\n",
      "Detected car with confidence 0.982 at location [155.28, 217.43, 366.49, 430.45]\n",
      "Detected car with confidence 0.986 at location [176.63, 0.33, 288.32, 56.18]\n",
      "Detected bus with confidence 0.965 at location [385.12, 0.99, 607.96, 184.27]\n",
      "Detected car with confidence 0.99 at location [309.89, 0.33, 507.36, 87.56]\n",
      "Detected car with confidence 0.914 at location [173.72, 0.3, 352.07, 48.7]\n",
      "Detected truck with confidence 0.923 at location [169.87, 0.18, 349.65, 47.02]\n",
      "Detected car with confidence 0.996 at location [155.24, 184.94, 318.24, 415.79]\n",
      "Detected truck with confidence 0.936 at location [230.84, 68.24, 482.16, 262.86]\n",
      "Detected car with confidence 0.933 at location [230.86, 67.08, 483.52, 262.09]\n",
      "Detected car with confidence 0.995 at location [206.15, 0.41, 359.94, 90.19]\n",
      "Detected car with confidence 0.966 at location [171.43, 0.11, 232.87, 52.78]\n",
      "Detected car with confidence 0.986 at location [154.74, 140.17, 473.93, 383.53]\n",
      "Detected car with confidence 0.998 at location [159.81, 203.13, 425.0, 467.66]\n",
      "Detected bus with confidence 0.904 at location [344.07, 1.62, 533.88, 155.88]\n",
      "Detected car with confidence 0.99 at location [355.69, 24.2, 568.48, 213.56]\n",
      "Detected car with confidence 0.917 at location [159.54, 185.42, 382.87, 404.09]\n",
      "Detected car with confidence 0.996 at location [322.37, 0.35, 504.36, 109.47]\n",
      "Detected car with confidence 0.988 at location [188.71, 0.47, 361.92, 66.16]\n",
      "Detected car with confidence 0.973 at location [302.45, 43.78, 571.48, 262.77]\n",
      "Detected car with confidence 0.991 at location [310.39, 0.86, 514.6, 141.71]\n",
      "Detected car with confidence 0.938 at location [181.28, 0.24, 367.16, 83.44]\n",
      "Detected truck with confidence 0.932 at location [180.37, 0.09, 365.03, 81.77]\n",
      "Detected car with confidence 0.909 at location [511.33, 0.14, 670.24, 19.85]\n",
      "Detected car with confidence 0.988 at location [172.22, 0.14, 237.4, 49.58]\n",
      "Detected person with confidence 0.998 at location [427.32, 0.1, 464.3, 108.05]\n",
      "Detected skateboard with confidence 0.974 at location [440.58, 95.64, 461.83, 111.22]\n",
      "Detected car with confidence 0.926 at location [511.44, 0.13, 669.02, 19.94]\n",
      "Detected person with confidence 0.998 at location [584.11, 0.18, 641.2, 87.74]\n",
      "Detected car with confidence 0.938 at location [189.83, 0.39, 354.79, 74.31]\n",
      "Detected truck with confidence 0.93 at location [187.58, 0.27, 355.24, 74.19]\n",
      "Detected truck with confidence 0.938 at location [305.61, 41.2, 546.01, 248.33]\n",
      "Detected car with confidence 0.995 at location [155.46, 194.73, 448.91, 473.82]\n",
      "Detected car with confidence 0.99 at location [280.14, 1.12, 465.31, 134.43]\n",
      "Detected car with confidence 0.994 at location [177.42, 0.34, 339.43, 73.88]\n",
      "Detected car with confidence 0.996 at location [362.46, 62.21, 591.54, 240.06]\n",
      "Detected car with confidence 0.995 at location [174.02, 0.11, 231.29, 38.66]\n",
      "Detected car with confidence 0.997 at location [316.23, 0.64, 515.21, 128.59]\n",
      "Detected car with confidence 0.906 at location [515.12, 0.12, 669.47, 18.7]\n",
      "Detected car with confidence 0.993 at location [176.77, 0.36, 348.33, 72.72]\n",
      "Detected car with confidence 0.904 at location [510.78, 0.14, 668.75, 20.38]\n",
      "Detected clock with confidence 0.987 at location [230.44, 332.97, 333.68, 470.51]\n",
      "Detected car with confidence 0.937 at location [221.65, 135.39, 458.67, 352.37]\n",
      "Detected car with confidence 0.991 at location [337.93, 25.07, 514.49, 172.77]\n",
      "Detected car with confidence 0.99 at location [214.41, 0.53, 386.91, 101.85]\n",
      "Detected car with confidence 0.962 at location [541.68, 0.33, 689.24, 80.67]\n",
      "Detected car with confidence 0.996 at location [346.64, 0.21, 576.56, 72.96]\n",
      "Detected car with confidence 0.994 at location [217.44, 0.24, 386.62, 55.65]\n",
      "Detected car with confidence 0.921 at location [511.17, 0.14, 670.26, 19.58]\n",
      "Detected car with confidence 0.939 at location [172.76, 0.14, 235.09, 32.82]\n",
      "Detected car with confidence 0.993 at location [447.16, 21.91, 666.69, 218.27]\n",
      "Detected car with confidence 0.925 at location [156.01, 217.26, 476.7, 390.79]\n",
      "Detected car with confidence 0.95 at location [216.25, 0.31, 368.68, 74.75]\n",
      "Detected car with confidence 0.967 at location [358.57, 0.36, 612.57, 249.48]\n",
      "Detected truck with confidence 0.963 at location [357.11, 0.28, 613.84, 251.17]\n",
      "Detected truck with confidence 0.967 at location [379.49, 1.44, 591.33, 155.76]\n",
      "Detected truck with confidence 0.964 at location [290.77, 0.25, 500.74, 93.94]\n",
      "Detected car with confidence 0.958 at location [173.46, 0.22, 270.26, 37.16]\n",
      "Detected truck with confidence 0.997 at location [158.43, 139.78, 631.79, 472.06]\n",
      "Detected person with confidence 0.909 at location [194.45, 0.2, 238.89, 139.17]\n",
      "Detected car with confidence 0.998 at location [409.89, 17.31, 632.47, 185.86]\n",
      "Detected car with confidence 0.964 at location [510.32, 0.12, 667.75, 19.43]\n",
      "Detected car with confidence 0.996 at location [295.13, 0.09, 495.29, 103.28]\n",
      "Detected car with confidence 0.918 at location [509.23, 0.14, 667.91, 20.15]\n",
      "Detected car with confidence 0.939 at location [289.44, 1.07, 600.82, 147.82]\n",
      "Detected bus with confidence 0.998 at location [205.54, 125.77, 612.01, 409.21]\n",
      "Detected car with confidence 0.997 at location [259.77, 0.38, 449.35, 109.74]\n",
      "Detected car with confidence 0.954 at location [510.05, 0.15, 666.98, 20.12]\n",
      "Detected truck with confidence 0.925 at location [153.74, 184.67, 465.75, 464.38]\n",
      "Detected car with confidence 0.977 at location [155.05, 185.57, 460.57, 463.94]\n",
      "Detected bench with confidence 0.92 at location [166.27, 102.97, 574.57, 386.68]\n",
      "Detected car with confidence 0.912 at location [511.62, 0.11, 663.98, 18.8]\n",
      "Detected car with confidence 0.997 at location [303.5, 0.47, 486.13, 105.73]\n",
      "Detected person with confidence 0.993 at location [217.65, 373.18, 275.64, 469.21]\n",
      "Detected car with confidence 0.943 at location [355.0, 55.4, 586.15, 247.67]\n",
      "Detected car with confidence 0.931 at location [318.36, 18.0, 494.16, 114.66]\n",
      "Detected truck with confidence 0.9 at location [174.68, 0.25, 311.27, 54.51]\n",
      "Detected car with confidence 0.918 at location [155.83, 315.09, 256.63, 470.54]\n",
      "Detected car with confidence 0.942 at location [173.53, 0.34, 312.27, 54.92]\n",
      "Detected handbag with confidence 0.991 at location [559.9, 273.59, 658.11, 469.53]\n",
      "Detected car with confidence 0.919 at location [508.79, 0.13, 668.89, 19.57]\n",
      "Detected person with confidence 0.995 at location [518.64, 212.45, 655.25, 471.08]\n",
      "Detected car with confidence 0.993 at location [279.66, 0.66, 456.71, 118.67]\n",
      "Detected car with confidence 0.955 at location [511.34, 0.11, 669.46, 19.8]\n",
      "Detected car with confidence 0.978 at location [162.44, 0.4, 273.91, 66.94]\n",
      "Detected car with confidence 0.934 at location [510.19, 0.14, 667.08, 20.29]\n",
      "Detected car with confidence 0.955 at location [160.08, 200.55, 648.55, 472.1]\n",
      "Detected truck with confidence 0.96 at location [362.36, 9.75, 619.79, 202.84]\n",
      "Detected car with confidence 0.957 at location [301.05, 0.39, 541.38, 106.85]\n",
      "Detected car with confidence 0.935 at location [496.47, 58.28, 696.79, 264.75]\n",
      "Detected car with confidence 0.984 at location [334.58, 52.07, 560.48, 235.37]\n",
      "Detected truck with confidence 0.983 at location [173.38, 0.41, 398.31, 73.04]\n",
      "Detected car with confidence 0.997 at location [429.29, 1.35, 639.19, 137.31]\n",
      "Detected car with confidence 0.957 at location [154.18, 217.45, 387.8, 473.43]\n",
      "Detected car with confidence 0.951 at location [300.8, 0.14, 487.11, 86.51]\n",
      "Detected car with confidence 0.939 at location [511.22, 0.12, 659.12, 19.88]\n",
      "Detected car with confidence 0.975 at location [175.99, 0.31, 334.62, 54.15]\n",
      "Detected car with confidence 0.991 at location [262.62, 46.26, 538.48, 270.62]\n",
      "Detected car with confidence 0.983 at location [210.54, 0.42, 401.68, 93.16]\n",
      "Detected car with confidence 0.939 at location [169.86, 0.22, 250.15, 48.04]\n",
      "Detected car with confidence 0.991 at location [290.24, 1.32, 494.17, 139.38]\n",
      "Detected car with confidence 0.973 at location [204.65, 0.52, 370.89, 83.14]\n",
      "Detected truck with confidence 0.902 at location [194.94, 0.38, 370.26, 82.34]\n",
      "Detected truck with confidence 0.936 at location [157.78, 243.92, 302.8, 463.56]\n",
      "Detected car with confidence 0.993 at location [311.06, 6.75, 495.27, 123.98]\n",
      "Detected train with confidence 0.998 at location [386.25, 123.74, 698.72, 462.79]\n",
      "Detected truck with confidence 0.976 at location [616.34, 1.39, 696.08, 170.42]\n",
      "Detected truck with confidence 0.9 at location [484.1, 0.34, 699.07, 125.18]\n"
     ]
    }
   ],
   "source": [
    "\n",
    "\"\"\"\n",
    "Apply the model to the extracted frames in 'in_dir' and save to 'out_dir'. Use the model 'model_name', e.g. \n",
    "one of the below models from Facebook. \n",
    "The model returns only detections above the 'confidence' threshold.\n",
    "\"\"\"\n",
    "\n",
    "# model_name = \"facebook/detr-resnet-101\"\n",
    "model_name = \"facebook/detr-resnet-50\"\n",
    "\n",
    "# Anzahl der Erkennungen zählen\n",
    "label_count = detect_objects_in_frames(\n",
    "    in_dir=\"extracted_frames\",\n",
    "    out_dir=f\"detections-{model_name}\",\n",
    "    model_name=model_name,\n",
    "    confidence=0.9\n",
    ")"
   ]
  },
  {
   "attachments": {},
   "cell_type": "markdown",
   "id": "c9d10d45",
   "metadata": {},
   "source": [
    "### Ausgabe Anzahl der erkannten Fahrzeuge"
   ]
  },
  {
   "cell_type": "code",
   "execution_count": 10,
   "id": "3fa95de7",
   "metadata": {},
   "outputs": [
    {
     "name": "stdout",
     "output_type": "stream",
     "text": [
      "Detected 32\ttrucks\n",
      "Detected 118\tcars\n",
      "Detected 1\tairplanes\n",
      "Detected 4\tbuss\n",
      "Detected 1\tbackpacks\n",
      "Detected 5\tpersons\n",
      "Detected 1\tskateboards\n",
      "Detected 1\tclocks\n",
      "Detected 1\tbenchs\n",
      "Detected 1\thandbags\n",
      "Detected 1\ttrains\n"
     ]
    }
   ],
   "source": [
    "for (label, num) in label_count.items():\n",
    "    print(f\"Detected {num}\\t{label}s\")"
   ]
  },
  {
   "attachments": {},
   "cell_type": "markdown",
   "id": "cd413de3",
   "metadata": {},
   "source": [
    "### Ausgabe in eine Json-Datei"
   ]
  },
  {
   "cell_type": "code",
   "execution_count": 9,
   "id": "b8afbc93",
   "metadata": {},
   "outputs": [],
   "source": [
    "# Erkennungen in Datei ausgeben\n",
    "with open(f\"detections-{model_name}.json\", \"w\") as f:\n",
    "    json.dump(label_count, f, indent=4)"
   ]
  },
  {
   "cell_type": "code",
   "execution_count": null,
   "id": "3598b163",
   "metadata": {},
   "outputs": [],
   "source": []
  },
  {
   "cell_type": "code",
   "execution_count": null,
   "id": "2b3f295b",
   "metadata": {},
   "outputs": [],
   "source": []
  }
 ],
 "metadata": {
  "kernelspec": {
   "display_name": "Python 3 (ipykernel)",
   "language": "python",
   "name": "python3"
  },
  "language_info": {
   "codemirror_mode": {
    "name": "ipython",
    "version": 3
   },
   "file_extension": ".py",
   "mimetype": "text/x-python",
   "name": "python",
   "nbconvert_exporter": "python",
   "pygments_lexer": "ipython3",
   "version": "3.9.13"
  }
 },
 "nbformat": 4,
 "nbformat_minor": 5
}
